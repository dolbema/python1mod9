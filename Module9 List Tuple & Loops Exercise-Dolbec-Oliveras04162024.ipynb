{
 "cells": [
  {
   "cell_type": "markdown",
   "metadata": {},
   "source": [
    "### Exercise 1\n",
    "Ask a user for 5 names and place each one in to a list called <i>names</i>. Then, print <i>names</i>."
   ]
  },
  {
   "cell_type": "code",
   "execution_count": 6,
   "metadata": {},
   "outputs": [
    {
     "name": "stdin",
     "output_type": "stream",
     "text": [
      "Enter a name: joe\n",
      "Enter a name: rachel\n",
      "Enter a name: lizzy\n",
      "Enter a name: tina\n",
      "Enter a name: mom\n"
     ]
    },
    {
     "name": "stdout",
     "output_type": "stream",
     "text": [
      "['joe', 'rachel', 'lizzy', 'tina', 'mom']\n"
     ]
    }
   ],
   "source": [
    "names=[]\n",
    "name1=input(\"Enter a name:\")\n",
    "name2=input(\"Enter a name:\")\n",
    "name3=input(\"Enter a name:\")\n",
    "name4=input(\"Enter a name:\")\n",
    "name5=input(\"Enter a name:\")\n",
    "names=[name1,name2,name3,name4,name5]\n",
    "print(names)"
   ]
  },
  {
   "cell_type": "code",
   "execution_count": null,
   "metadata": {},
   "outputs": [],
   "source": [
    "##MORE EFFICIENT METHOD THAN ABOVE. Looked up code. \n",
    "\n",
    "#def get_names(): \n",
    " #   names = []\n",
    "  #  for i in range(5):\n",
    "   #     name = input(\"Enter a name: \")\n",
    "    #    names.append(name)\n",
    "    #return names\n",
    "\n",
    "#names = get_names()\n",
    "#print(\"Names entered:\", names)"
   ]
  },
  {
   "cell_type": "markdown",
   "metadata": {},
   "source": [
    "### Exercise 2\n",
    "Print out a randomly selected name in the names list from exercise 1."
   ]
  },
  {
   "cell_type": "code",
   "execution_count": 8,
   "metadata": {},
   "outputs": [
    {
     "name": "stdout",
     "output_type": "stream",
     "text": [
      "joe\n"
     ]
    }
   ],
   "source": [
    "import random as rand\n",
    "print(rand.choice(names)) #LOOKED UP .CHOICE FROM RANDOM MODULE https://www.w3schools.com/python/module_random.asp"
   ]
  },
  {
   "cell_type": "markdown",
   "metadata": {},
   "source": [
    "### Exercise 3: \n",
    "Fix bugs in the next cell.  It is trying to create a list for even numbers between two numbers provided by a user.\n"
   ]
  },
  {
   "cell_type": "code",
   "execution_count": 4,
   "metadata": {},
   "outputs": [
    {
     "name": "stdin",
     "output_type": "stream",
     "text": [
      "Enter a starting number:  2\n",
      "Enter an ending number:  10\n"
     ]
    },
    {
     "name": "stdout",
     "output_type": "stream",
     "text": [
      "[2, 3, 4, 5, 6, 7, 8, 9]\n",
      "[2, 4, 6, 8]\n"
     ]
    }
   ],
   "source": [
    "no1 = int(input(\"Enter a starting number: \"))#MADE SURE INPUT WAS CONVERTED INTO INTEGER\n",
    "no2 = int(input(\"Enter an ending number: \"))\n",
    "\n",
    "numbers = []\n",
    "evens = []\n",
    "\n",
    "for i in range(no1, no2) :\n",
    "    numbers.append(i) \n",
    "    if (i%2 == 0):    #even number\n",
    "        evens.append(i)\n",
    "    \n",
    "print(numbers)    \n",
    "print(evens)"
   ]
  },
  {
   "cell_type": "markdown",
   "metadata": {},
   "source": [
    "### Exercise 4\n",
    "Finish writing a program to generate 10 random numbers between 1 and 100 and save it to a list.\n",
    "Finally, print out the original numbers followed by the smallest, largest, and average number."
   ]
  },
  {
   "cell_type": "code",
   "execution_count": 18,
   "metadata": {},
   "outputs": [
    {
     "name": "stdout",
     "output_type": "stream",
     "text": [
      "Org Numbers are [13, 37, 37, 59, 60, 65, 67, 72, 97, 30]\n",
      "Sorted numbers are [13, 30, 37, 37, 59, 60, 65, 67, 72, 97]\n",
      "Largest number is 97\n",
      "Smallest number is 13\n",
      "Average is 53.7\n",
      "total is 537\n"
     ]
    }
   ],
   "source": [
    "import random as rand\n",
    "\n",
    "numbers = []\n",
    "total = 0\n",
    "\n",
    "for i in range(1, 11) :\n",
    "    numb = rand.randint(1, 100)\n",
    "    total += numb\n",
    "    numbers.append(numb)\n",
    "    org_numbs=numbers.copy()#copy original list so we don't loose it\n",
    "    numbers.sort()#order the numbers from min to max\n",
    "    \n",
    "\n",
    "    \n",
    "# some code needed here to find the smallest, largest, and average number\n",
    "\n",
    "largest = numbers[9]\n",
    "smallest = numbers[0]\n",
    "avg = total / 10 #sum of the numbers is in provided code so we only need to divide by 10. \n",
    "    \n",
    "\n",
    "\n",
    "\n",
    "\n",
    "print(f\"Org Numbers are {org_numbs}\")\n",
    "print(f\"Sorted numbers are {numbers}\")\n",
    "print(f\"Largest number is {largest}\")\n",
    "print(f\"Smallest number is {smallest}\")\n",
    "print(f\"Average is {avg}\")\n",
    "print(f\"total is {total}\")"
   ]
  },
  {
   "cell_type": "markdown",
   "metadata": {},
   "source": [
    "### Exercise 5\n",
    "\n",
    "Write a function called <b>draw_triangle()</b> to draw a right triangle where the base of the triangle is the number passed in as an arguement. Call <b>draw_triangle()</b> to show it works.\n",
    "\n",
    "e.g. <b>draw_triangle(7)</b> draws as below:\n",
    "\n",
    "    *\n",
    "    **\n",
    "    ***\n",
    "    ****\n",
    "    *****\n",
    "    ******\n",
    "    *******\n"
   ]
  },
  {
   "cell_type": "code",
   "execution_count": 21,
   "metadata": {},
   "outputs": [],
   "source": [
    "# write code for draw_triangle() function\n",
    "\n",
    "def draw_triangle(base):\n",
    "\n",
    "    for i in range(1, base + 1):\n",
    "        print('*' * i)\n",
    "\n",
    "\n",
    "\n",
    "\n"
   ]
  },
  {
   "cell_type": "code",
   "execution_count": 26,
   "metadata": {},
   "outputs": [
    {
     "name": "stdin",
     "output_type": "stream",
     "text": [
      "Enter a number:  7\n"
     ]
    },
    {
     "name": "stdout",
     "output_type": "stream",
     "text": [
      "*\n",
      "**\n",
      "***\n",
      "****\n",
      "*****\n",
      "******\n",
      "*******\n"
     ]
    }
   ],
   "source": [
    "base = int(input(\"Enter a number: \"))\n",
    "\n",
    "draw_triangle(base)"
   ]
  },
  {
   "cell_type": "code",
   "execution_count": null,
   "metadata": {},
   "outputs": [],
   "source": []
  }
 ],
 "metadata": {
  "kernelspec": {
   "display_name": "Python 3 (ipykernel)",
   "language": "python",
   "name": "python3"
  },
  "language_info": {
   "codemirror_mode": {
    "name": "ipython",
    "version": 3
   },
   "file_extension": ".py",
   "mimetype": "text/x-python",
   "name": "python",
   "nbconvert_exporter": "python",
   "pygments_lexer": "ipython3",
   "version": "3.11.7"
  }
 },
 "nbformat": 4,
 "nbformat_minor": 4
}
